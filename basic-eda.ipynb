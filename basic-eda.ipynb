{
 "cells": [
  {
   "cell_type": "markdown",
   "metadata": {},
   "source": [
    "# Basic Exploration\n",
    "As of this notebook, I've only pulled pages 1-100, which gives me around 10,000 books.  This notebook will browse through this data briefly just to get an idea about what we're dealing with."
   ]
  },
  {
   "cell_type": "code",
   "execution_count": 1,
   "metadata": {},
   "outputs": [],
   "source": [
    "import pandas as pd\n",
    "\n",
    "import matplotlib.pyplot as plt\n",
    "%matplotlib inline\n",
    "\n",
    "import seaborn as sns"
   ]
  },
  {
   "cell_type": "code",
   "execution_count": 2,
   "metadata": {},
   "outputs": [],
   "source": [
    "books = pd.read_csv('./scraper/output/pages-1-100.tsv', sep='\\t')"
   ]
  },
  {
   "cell_type": "markdown",
   "metadata": {},
   "source": [
    "Just as a reminder, here are the columns with the top two rows for example:\n",
    "\n",
    "* `title` - The title of the book in the language of this particular edition.\n",
    "* `original_title` - The title in the original language (this is usually the same as `title`).\n",
    "* `series` - The name of the series the book belongs to, if any.\n",
    "* `authors` - A comma separated list of the contributing authors.  Roles are sometimes listed in (brackets) after their name.\n",
    "* `avg_rating` - The average rating out of 5 that the book has across all ratings.\n",
    "* `num_ratings` - How many times was the book rated (by which `avg_rating` was calculated from).\n",
    "* `num_reviews` - How many times was the book reviewed?\n",
    "* `genres` - A comma separated list of the top genres listed on this book's page.\n",
    "* `description` - The description of the book on the book's page, similar to the blurb."
   ]
  },
  {
   "cell_type": "code",
   "execution_count": 3,
   "metadata": {},
   "outputs": [
    {
     "data": {
      "text/html": [
       "<div>\n",
       "<style scoped>\n",
       "    .dataframe tbody tr th:only-of-type {\n",
       "        vertical-align: middle;\n",
       "    }\n",
       "\n",
       "    .dataframe tbody tr th {\n",
       "        vertical-align: top;\n",
       "    }\n",
       "\n",
       "    .dataframe thead th {\n",
       "        text-align: right;\n",
       "    }\n",
       "</style>\n",
       "<table border=\"1\" class=\"dataframe\">\n",
       "  <thead>\n",
       "    <tr style=\"text-align: right;\">\n",
       "      <th></th>\n",
       "      <th>title</th>\n",
       "      <th>original_title</th>\n",
       "      <th>series</th>\n",
       "      <th>language</th>\n",
       "      <th>authors</th>\n",
       "      <th>avg_rating</th>\n",
       "      <th>num_ratings</th>\n",
       "      <th>num_reviews</th>\n",
       "      <th>genres</th>\n",
       "      <th>description</th>\n",
       "      <th>url</th>\n",
       "    </tr>\n",
       "  </thead>\n",
       "  <tbody>\n",
       "    <tr>\n",
       "      <th>0</th>\n",
       "      <td>The Canterbury Tales</td>\n",
       "      <td>Tales of Caunterbury</td>\n",
       "      <td>NaN</td>\n",
       "      <td>English</td>\n",
       "      <td>Geoffrey Chaucer,Nevill Coghill (Translator)</td>\n",
       "      <td>3.49</td>\n",
       "      <td>176459</td>\n",
       "      <td>3099</td>\n",
       "      <td>Classics,Fiction,Poetry,Literature,Academic,Sc...</td>\n",
       "      <td>The procession that crosses Chaucer's pages is...</td>\n",
       "      <td>https://www.goodreads.com/book/show/2696.The_C...</td>\n",
       "    </tr>\n",
       "    <tr>\n",
       "      <th>1</th>\n",
       "      <td>The Things They Carried</td>\n",
       "      <td>The Things They Carried</td>\n",
       "      <td>NaN</td>\n",
       "      <td>English</td>\n",
       "      <td>Tim O'Brien</td>\n",
       "      <td>4.13</td>\n",
       "      <td>233187</td>\n",
       "      <td>13213</td>\n",
       "      <td>Fiction,Historical,Historical Fiction,War,Clas...</td>\n",
       "      <td>In 1979, Tim O'Brien's Going After Cacciato —a...</td>\n",
       "      <td>https://www.goodreads.com/book/show/133518.The...</td>\n",
       "    </tr>\n",
       "  </tbody>\n",
       "</table>\n",
       "</div>"
      ],
      "text/plain": [
       "                     title           original_title series language  \\\n",
       "0     The Canterbury Tales     Tales of Caunterbury    NaN  English   \n",
       "1  The Things They Carried  The Things They Carried    NaN  English   \n",
       "\n",
       "                                        authors  avg_rating  num_ratings  \\\n",
       "0  Geoffrey Chaucer,Nevill Coghill (Translator)        3.49       176459   \n",
       "1                                   Tim O'Brien        4.13       233187   \n",
       "\n",
       "   num_reviews                                             genres  \\\n",
       "0         3099  Classics,Fiction,Poetry,Literature,Academic,Sc...   \n",
       "1        13213  Fiction,Historical,Historical Fiction,War,Clas...   \n",
       "\n",
       "                                         description  \\\n",
       "0  The procession that crosses Chaucer's pages is...   \n",
       "1  In 1979, Tim O'Brien's Going After Cacciato —a...   \n",
       "\n",
       "                                                 url  \n",
       "0  https://www.goodreads.com/book/show/2696.The_C...  \n",
       "1  https://www.goodreads.com/book/show/133518.The...  "
      ]
     },
     "execution_count": 3,
     "metadata": {},
     "output_type": "execute_result"
    }
   ],
   "source": [
    "books.head(2)"
   ]
  },
  {
   "cell_type": "markdown",
   "metadata": {},
   "source": [
    "## Missing values\n",
    "There are some columns that *should* have missing values.  The `original_title` is not always available.  Books are not always part of a `series`.  The `language` isn't always specified.  Ideally, every other field should be present, but it cannot always be guaranteed.  However, `title` should always exist and be valid, as should its `url`.\n",
    "\n",
    "Looking below, `series` is missing the most, which is fine.  I cannot guarantee that books that have no `series` are not actually in a series - that's up to the editors to add on the website.  `original_title`, as mentioned above, is not always present in the book's metadata.  The `language` being missing from some books is a shame, but it's not always listed either.  `genres` and `description` warrant further investigation, as ideally these should be present."
   ]
  },
  {
   "cell_type": "code",
   "execution_count": 4,
   "metadata": {},
   "outputs": [
    {
     "data": {
      "text/plain": [
       "series            4717\n",
       "original_title     992\n",
       "language           268\n",
       "genres              93\n",
       "description         69\n",
       "url                  0\n",
       "num_reviews          0\n",
       "num_ratings          0\n",
       "avg_rating           0\n",
       "authors              0\n",
       "title                0\n",
       "dtype: int64"
      ]
     },
     "execution_count": 4,
     "metadata": {},
     "output_type": "execute_result"
    }
   ],
   "source": [
    "books.isnull().sum().sort_values(ascending=False)"
   ]
  },
  {
   "cell_type": "markdown",
   "metadata": {},
   "source": [
    "### Missing genres\n",
    "Looking at the top two missing genres (by opening the URL in a browser), the genres are just plain missing.  As mentioned earlier, some elements we'd like to have present always are omitted from the page.  Unfortunate, but there's not much we can do other than find the genres manually!"
   ]
  },
  {
   "cell_type": "code",
   "execution_count": 5,
   "metadata": {},
   "outputs": [
    {
     "data": {
      "text/plain": [
       "array(['https://www.goodreads.com/book/show/43524300-take-my-heart',\n",
       "       'https://www.goodreads.com/book/show/44416211-the-candidate-and-other-stories'],\n",
       "      dtype=object)"
      ]
     },
     "execution_count": 5,
     "metadata": {},
     "output_type": "execute_result"
    }
   ],
   "source": [
    "books[books.genres.isnull()].head(2).url.values"
   ]
  },
  {
   "cell_type": "markdown",
   "metadata": {},
   "source": [
    "### Missing description\n",
    "Again, eyeballing the top two missing descriptions, it seems that they are also missing from the page entirely.  Shame!"
   ]
  },
  {
   "cell_type": "code",
   "execution_count": 6,
   "metadata": {},
   "outputs": [
    {
     "data": {
      "text/plain": [
       "array(['https://www.goodreads.com/book/show/30474.The_Communist_Manifesto',\n",
       "       'https://www.goodreads.com/book/show/80176.Winesburg_Ohio'],\n",
       "      dtype=object)"
      ]
     },
     "execution_count": 6,
     "metadata": {},
     "output_type": "execute_result"
    }
   ],
   "source": [
    "books[books.description.isnull()].head(2).url.values"
   ]
  },
  {
   "cell_type": "markdown",
   "metadata": {},
   "source": [
    "## Genres\n",
    "Let's have a look at which genres exist and how many books are in each category.  Looking at the unique tags (i.e., printing out the index of `split_genres_counts`) shows some questionable categories for what I'd consider a genre.  I think these should be instead referred to as user tags rather than genres.  Unfortunately, when working with user data, problems like this rise.\n",
    "\n",
    "Looking at the graphs below, we can see that fantasy, fiction, romance, young adult, and historical are the most popular genres.  On the other hand, cycling, earth, quantum mechanics (boo!), social work, and urban planning are the least popular."
   ]
  },
  {
   "cell_type": "code",
   "execution_count": 77,
   "metadata": {},
   "outputs": [
    {
     "data": {
      "image/png": "[encoded data removed]",
      "text/plain": [
       "<Figure size 432x288 with 1 Axes>"
      ]
     },
     "metadata": {
      "needs_background": "light"
     },
     "output_type": "display_data"
    },
    {
     "data": {
      "image/png": "[encoded data removed]",
      "text/plain": [
       "<Figure size 432x288 with 1 Axes>"
      ]
     },
     "metadata": {
      "needs_background": "light"
     },
     "output_type": "display_data"
    }
   ],
   "source": [
    "# Split all strings and manipulate so that we have an index per row repeated as many times as there is genres for that entry.\n",
    "split_genres = books.loc[books.genres.notnull(), 'genres'].str.split(',', expand=True).stack().reset_index(level=-1, drop=True)\n",
    "# Count how many entries exist per category and sort them.\n",
    "split_genres_counts = split_genres.value_counts().sort_values(ascending=False)\n",
    "\n",
    "# Plot the top 5.\n",
    "sns.barplot(y=split_genres_counts[:5], x=split_genres_counts.index[:5])\n",
    "sns.despine()\n",
    "plt.xlabel('Genre')\n",
    "plt.ylabel('Amount')\n",
    "plt.title('Top 5 genres by amount')\n",
    "plt.show()\n",
    "\n",
    "# And the bottom 5.\n",
    "g = sns.barplot(y=split_genres_counts[-5:], x=split_genres_counts.index[-5:])\n",
    "g.set_xticklabels(g.get_xticklabels(), rotation=15, ha='center')\n",
    "sns.despine()\n",
    "plt.xlabel('Genre')\n",
    "plt.ylabel('Amount')\n",
    "plt.title('Bottom 5 genres by amount')\n",
    "plt.show()"
   ]
  },
  {
   "cell_type": "markdown",
   "metadata": {},
   "source": [
    "## Authors\n",
    "TODO: Split authors as above, find most popular author."
   ]
  },
  {
   "cell_type": "markdown",
   "metadata": {},
   "source": [
    "## Series\n",
    "TODO: Find series with the most entries."
   ]
  },
  {
   "cell_type": "code",
   "execution_count": null,
   "metadata": {},
   "outputs": [],
   "source": []
  }
 ],
 "metadata": {
  "kernelspec": {
   "display_name": "Python 3",
   "language": "python",
   "name": "python3"
  },
  "language_info": {
   "codemirror_mode": {
    "name": "ipython",
    "version": 3
   },
   "file_extension": ".py",
   "mimetype": "text/x-python",
   "name": "python",
   "nbconvert_exporter": "python",
   "pygments_lexer": "ipython3",
   "version": "3.7.4"
  }
 },
 "nbformat": 4,
 "nbformat_minor": 2
}
